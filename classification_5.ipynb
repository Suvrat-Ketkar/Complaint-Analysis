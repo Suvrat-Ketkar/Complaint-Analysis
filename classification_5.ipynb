{
 "cells": [
  {
   "cell_type": "code",
   "execution_count": 1,
   "id": "1ce6d3a6-0e93-4a46-bfd2-3d998f8be433",
   "metadata": {},
   "outputs": [],
   "source": [
    "import pandas as pd\n",
    "import numpy as np\n",
    "from sklearn.feature_extraction.text import TfidfVectorizer\n",
    "from sklearn.feature_selection import chi2\n",
    "from IPython.display import display\n",
    "from sklearn.model_selection import train_test_split\n",
    "from sklearn.feature_extraction.text import TfidfTransformer\n",
    "from sklearn.naive_bayes import MultinomialNB\n",
    "from sklearn.linear_model import LogisticRegression\n",
    "from sklearn.ensemble import RandomForestClassifier\n",
    "from sklearn.svm import LinearSVC\n",
    "from sklearn.model_selection import cross_val_score\n",
    "from sklearn.metrics import confusion_matrix\n",
    "from sklearn import metrics\n",
    "from sklearn.neighbors import KNeighborsClassifier\n",
    "from sklearn.feature_extraction import text \n",
    "import nltk\n",
    "from nltk.stem import WordNetLemmatizer\n",
    "from nltk.corpus import stopwords\n",
    "from imblearn.over_sampling import SMOTE\n",
    "from sklearn.metrics import classification_report\n",
    "from sklearn.model_selection import StratifiedKFold"
   ]
  },
  {
   "cell_type": "code",
   "execution_count": 2,
   "id": "1a8b8f70-4b12-46cc-9e3e-ebc39bd24ff0",
   "metadata": {},
   "outputs": [],
   "source": [
    "# df = pd.read_csv(r\"C:\\Suvrat\\Machine Learning\\STC\\complaints-2024-09-28_13_00.csv\")\n",
    "df = pd.read_csv(r\"C:\\Suvrat\\Machine Learning\\STC\\complaints-2024-09-28_12_02.csv\")\n"
   ]
  },
  {
   "cell_type": "code",
   "execution_count": 3,
   "id": "aadbc8a4-d099-4a2c-a966-16ab1fdd3816",
   "metadata": {},
   "outputs": [
    {
     "data": {
      "text/plain": [
       "(161891, 2)"
      ]
     },
     "execution_count": 3,
     "metadata": {},
     "output_type": "execute_result"
    }
   ],
   "source": [
    "df1 = df[['Product', 'Consumer complaint narrative']].copy()\n",
    "\n",
    "# Remove missing values (NaN)\n",
    "df1 = df1[pd.notnull(df1['Consumer complaint narrative'])]\n",
    "\n",
    "# Renaming second column for a simpler name\n",
    "df1.columns = ['Product', 'Consumer_complaint'] \n",
    "\n",
    "df1.shape"
   ]
  },
  {
   "cell_type": "code",
   "execution_count": 4,
   "id": "2f0d5895-be74-4781-a81e-728ac2501e1d",
   "metadata": {},
   "outputs": [],
   "source": [
    "df1 = df1.sample(10000, random_state=1).copy()"
   ]
  },
  {
   "cell_type": "code",
   "execution_count": 5,
   "id": "a97f2a25-58cb-4bdf-9c15-dc3ec3d0fa04",
   "metadata": {},
   "outputs": [],
   "source": [
    "df1.replace({'Product': \n",
    "             {'Credit reporting, credit repair services, or other personal consumer reports': \n",
    "              'Credit reporting, repair, or other',\n",
    "              \n",
    "              'Debt collection': 'Debt collection',\n",
    "              \n",
    "             'Credit card and Prepaid card': 'Credit card or prepaid card',\n",
    "              'Checking or savings account': 'Checking or savings account',\n",
    "              \n",
    "             'Payday loan, title loan, or personal loan': 'Loan',\n",
    "             'Mortgage': 'Loan',\n",
    "             'Student loan': 'Loan',\n",
    "             'Vehicle loan or lease': 'Loan',\n",
    "              \n",
    "             'Money transfer': 'Money transfer, virtual currency, or money service'}}, \n",
    "            inplace=True)\n"
   ]
  },
  {
   "cell_type": "code",
   "execution_count": 6,
   "id": "ebc57325-7393-49f5-94e0-61cf656968a8",
   "metadata": {},
   "outputs": [
    {
     "name": "stdout",
     "output_type": "stream",
     "text": [
      "Product\n",
      "Credit reporting, repair, or other                    5238\n",
      "Debt collection                                       1570\n",
      "Loan                                                  1318\n",
      "Credit card or prepaid card                           1034\n",
      "Checking or savings account                            564\n",
      "Money transfer, virtual currency, or money service     276\n",
      "Name: count, dtype: int64\n"
     ]
    }
   ],
   "source": [
    "category_counts = df1['Product'].value_counts()\n",
    "print(category_counts)"
   ]
  },
  {
   "cell_type": "code",
   "execution_count": 7,
   "id": "463be1de-6c4e-4569-820b-c772e6696327",
   "metadata": {
    "scrolled": true
   },
   "outputs": [
    {
     "data": {
      "text/html": [
       "<div>\n",
       "<style scoped>\n",
       "    .dataframe tbody tr th:only-of-type {\n",
       "        vertical-align: middle;\n",
       "    }\n",
       "\n",
       "    .dataframe tbody tr th {\n",
       "        vertical-align: top;\n",
       "    }\n",
       "\n",
       "    .dataframe thead th {\n",
       "        text-align: right;\n",
       "    }\n",
       "</style>\n",
       "<table border=\"1\" class=\"dataframe\">\n",
       "  <thead>\n",
       "    <tr style=\"text-align: right;\">\n",
       "      <th></th>\n",
       "      <th>Product</th>\n",
       "      <th>Consumer_complaint</th>\n",
       "      <th>category_id</th>\n",
       "    </tr>\n",
       "  </thead>\n",
       "  <tbody>\n",
       "    <tr>\n",
       "      <th>4823</th>\n",
       "      <td>Credit reporting, repair, or other</td>\n",
       "      <td>Contacted XXXX  numerous times since I was mad...</td>\n",
       "      <td>0</td>\n",
       "    </tr>\n",
       "    <tr>\n",
       "      <th>149328</th>\n",
       "      <td>Credit reporting, repair, or other</td>\n",
       "      <td>On XX/XX/2020 I sent a letter regarding inaccu...</td>\n",
       "      <td>0</td>\n",
       "    </tr>\n",
       "    <tr>\n",
       "      <th>203695</th>\n",
       "      <td>Credit reporting, repair, or other</td>\n",
       "      <td>My identity has been compromised. I found out ...</td>\n",
       "      <td>0</td>\n",
       "    </tr>\n",
       "    <tr>\n",
       "      <th>337449</th>\n",
       "      <td>Debt collection</td>\n",
       "      <td>I have asked them to remove this account off o...</td>\n",
       "      <td>1</td>\n",
       "    </tr>\n",
       "    <tr>\n",
       "      <th>42616</th>\n",
       "      <td>Credit reporting, repair, or other</td>\n",
       "      <td>In 2015 my father suffered a debilitating illn...</td>\n",
       "      <td>0</td>\n",
       "    </tr>\n",
       "  </tbody>\n",
       "</table>\n",
       "</div>"
      ],
      "text/plain": [
       "                                   Product  \\\n",
       "4823    Credit reporting, repair, or other   \n",
       "149328  Credit reporting, repair, or other   \n",
       "203695  Credit reporting, repair, or other   \n",
       "337449                     Debt collection   \n",
       "42616   Credit reporting, repair, or other   \n",
       "\n",
       "                                       Consumer_complaint  category_id  \n",
       "4823    Contacted XXXX  numerous times since I was mad...            0  \n",
       "149328  On XX/XX/2020 I sent a letter regarding inaccu...            0  \n",
       "203695  My identity has been compromised. I found out ...            0  \n",
       "337449  I have asked them to remove this account off o...            1  \n",
       "42616   In 2015 my father suffered a debilitating illn...            0  "
      ]
     },
     "execution_count": 7,
     "metadata": {},
     "output_type": "execute_result"
    }
   ],
   "source": [
    "df1['category_id'] = df1['Product'].factorize()[0]\n",
    "category_id_df = df1[['Product', 'category_id']].drop_duplicates()\n",
    "\n",
    "# The factorize() function assigns a unique integer ID to each unique category in the Product column. \n",
    "# This is useful for converting categorical variables into numerical format\n",
    "\n",
    "\n",
    "# Dictionaries for future use\n",
    "category_to_id = dict(category_id_df.values)\n",
    "# print(category_to_id)\n",
    "id_to_category = dict(category_id_df[['category_id', 'Product']].values)\n",
    "\n",
    "# category_to_id: Maps each product category to its corresponding numerical ID.\n",
    "# id_to_category: Maps each numerical ID back to its corresponding product category.\n",
    "\n",
    "# New dataframe\n",
    "df1.head()"
   ]
  },
  {
   "cell_type": "code",
   "execution_count": 8,
   "id": "31b3c468-4676-4fed-9e31-eda098356f1a",
   "metadata": {},
   "outputs": [],
   "source": [
    "stop_words_adjusted = text.ENGLISH_STOP_WORDS.union(['xx','xxxx','xxxxxxxx','00'])\n",
    "\n",
    "stop_words_adjusted = list(stop_words_adjusted)"
   ]
  },
  {
   "cell_type": "code",
   "execution_count": 9,
   "id": "29301dc7-aed2-467c-bb15-f62ee2e98099",
   "metadata": {},
   "outputs": [],
   "source": [
    "# Initialize lemmatizer\n",
    "lemmatizer = WordNetLemmatizer()\n",
    "\n",
    "# Create a set of stop words\n",
    "stop_words = set(stopwords.words('english')).union(['xx', 'xxxx', 'xxxxxxxx', '00'])\n",
    "\n",
    "def preprocess_text(text):\n",
    "    # Tokenize the text\n",
    "    words = text.split()\n",
    "    # Remove stop words and lemmatize\n",
    "    cleaned_words = [lemmatizer.lemmatize(word.lower()) for word in words if word.lower() not in stop_words]\n",
    "    return ' '.join(cleaned_words)\n"
   ]
  },
  {
   "cell_type": "code",
   "execution_count": 10,
   "id": "e3de3800-a283-4691-90ff-d458ba773447",
   "metadata": {},
   "outputs": [],
   "source": [
    "# \n",
    "# # tfidf = TfidfVectorizer(sublinear_tf=True, min_df=5,\n",
    "# #                         ngram_range=(1, 2), \n",
    "# #                         stop_words='english')\n",
    "\n",
    "# # # Transform complaints into feature vectors\n",
    "# features = tfidf.fit_transform(df1[\"Consumer_complaint\"]).toarray()\n",
    "# labels = df1.category_id\n",
    "# labels = df1['category_id']\n",
    "\n",
    "\n",
    "\n",
    "# # Train-test split\n",
    "# X_train, X_test, y_train, y_test = train_test_split(features, labels, \n",
    "#                                                     test_size=0.25, \n",
    "#                                                     random_state=0)\n",
    "\n",
    "# # Apply SMOTE to the training set\n",
    "# smote = SMOTE(random_state=42)\n",
    "# X_resampled, y_resampled = smote.fit_resample(X_train, y_train)\n",
    "\n",
    "# # Train the model\n",
    "# model = LinearSVC()\n",
    "# model.fit(X_resampled, y_resampled)\n",
    "\n",
    "# # Make predictions on the test set\n",
    "# y_pred = model.predict(X_test)\n",
    "\n",
    "# # Generate classification report for test set\n",
    "# print('\\t\\t\\t\\tCLASSIFICATION METRICS\\n')\n",
    "# print(metrics.classification_report(y_test, y_pred, \n",
    "#                                     target_names=df1['Product'].unique()))\n"
   ]
  },
  {
   "cell_type": "code",
   "execution_count": 11,
   "id": "c48aaa1c-0e30-4723-b9fa-23ef8574dd5c",
   "metadata": {},
   "outputs": [],
   "source": [
    "# tfidf = TfidfVectorizer(sublinear_tf=True, min_df=5,\n",
    "#                         ngram_range=(1, 2), \n",
    "#                         stop_words='english')\n",
    "\n",
    "# # We transform each complaint into a vector\n",
    "# features = tfidf.fit_transform(df1[\"Consumer_complaint\"]).toarray()\n",
    "\n",
    "# labels = df1.category_X = df1['Consumer_complaint'] # Collection of documents\n",
    "# y = df1['Product'] # Target or the labels we want to predict (i.e., the 13 different complaints of products)"
   ]
  },
  {
   "cell_type": "code",
   "execution_count": 12,
   "id": "8009df56-fd8f-4c15-bf7d-e8dcddb4a10f",
   "metadata": {},
   "outputs": [],
   "source": [
    "# tfidf = TfidfVectorizer(sublinear_tf=True, min_df=5,\n",
    "#                         ngram_range=(1, 2), \n",
    "#                         stop_words='english')\n",
    "\n",
    "# # Transform each complaint into a vector\n",
    "# features = tfidf.fit_transform(df1[\"Consumer_complaint\"]).toarray()\n",
    "\n",
    "# # Step 2: Correctly define labels and features\n",
    "# y = df1['Product']  # Target labels (product categories)\n",
    "\n",
    "# # Step 3: Split the dataset\n",
    "# X_train, X_test, y_train, y_test = train_test_split(features, y, \n",
    "#                                                     test_size=0.25,\n",
    "#                                                     random_state=0)\n",
    "\n",
    "# # Step 4: Apply SMOTE on the training data\n",
    "# smote = SMOTE(random_state=42)\n",
    "# X_resampled, y_resampled = smote.fit_resample(X_train, y_train)"
   ]
  },
  {
   "cell_type": "code",
   "execution_count": 13,
   "id": "7ec72486-3b3b-40be-be74-cd103af9dfca",
   "metadata": {},
   "outputs": [],
   "source": [
    "# df1['Consumer_complaint'] = df1['Consumer_complaint'].apply(preprocess_text)\n",
    "\n",
    "\n",
    "\n",
    "# We transform each complaint into a vector\n",
    "\n",
    "\n",
    "# labels = df1.category_X = df1['Consumer_complaint'] # Collection of documents"
   ]
  },
  {
   "cell_type": "code",
   "execution_count": 14,
   "id": "791d97e1-1abc-4a4c-8884-b73615fb9616",
   "metadata": {},
   "outputs": [],
   "source": [
    "# df1['Consumer_complaint'] = df1['Consumer_complaint'].apply(preprocess_text)\n",
    "\n",
    "tfidf = TfidfVectorizer(sublinear_tf=True, min_df=5,\n",
    "                        ngram_range=(1, 2), \n",
    "                        stop_words='english')\n",
    "features = tfidf.fit_transform(df1[\"Consumer_complaint\"]).toarray()\n",
    "labels = df1.category_id\n"
   ]
  },
  {
   "cell_type": "code",
   "execution_count": 15,
   "id": "f4ac0fcf-ddc7-4217-bc37-4dfb4b38c954",
   "metadata": {},
   "outputs": [
    {
     "name": "stdout",
     "output_type": "stream",
     "text": [
      "Original class distribution:\n",
      "category_id\n",
      "0    3919\n",
      "1    1190\n",
      "2    1007\n",
      "4     766\n",
      "3     419\n",
      "5     199\n",
      "Name: count, dtype: int64\n"
     ]
    }
   ],
   "source": [
    "X_train, X_test, y_train, y_test = train_test_split(features, labels, \n",
    "                                                     test_size=0.25,\n",
    "                                                     random_state=0)\n",
    "\n",
    "original_counts = y_train.value_counts()\n",
    "print(\"Original class distribution:\")\n",
    "print(original_counts)\n"
   ]
  },
  {
   "cell_type": "code",
   "execution_count": 16,
   "id": "f17ed6fb-0b2c-4116-be8f-eaa7da4ebda0",
   "metadata": {},
   "outputs": [
    {
     "name": "stdout",
     "output_type": "stream",
     "text": [
      "Resampled class distribution:\n",
      "category_id\n",
      "0    3919\n",
      "2    3919\n",
      "4    3919\n",
      "1    3919\n",
      "5    3919\n",
      "3    3919\n",
      "Name: count, dtype: int64\n"
     ]
    }
   ],
   "source": [
    "smote = SMOTE(random_state=42)\n",
    "# X_resampled, y_resampled = smote.fit_resample(X_train.values.reshape(-1, 1), y_train)  # Reshape if necessary\n",
    "X_resampled, y_resampled = smote.fit_resample(X_train, y_train)\n",
    "\n",
    "resampled_counts = y_resampled.value_counts()\n",
    "print(\"Resampled class distribution:\")\n",
    "print(resampled_counts)"
   ]
  },
  {
   "cell_type": "code",
   "execution_count": 17,
   "id": "6880dc33-1678-4a3e-acea-66499158899b",
   "metadata": {},
   "outputs": [],
   "source": [
    "\n",
    "# labels = df1.category_id\n",
    "\n",
    "models = [\n",
    "    LinearSVC(),\n",
    "    # LogisticRegression(random_state=0)\n",
    "]\n",
    "\n",
    "CV = 5\n",
    "cv_df = pd.DataFrame(index=range(CV * len(models)))\n",
    "entries = []\n",
    "\n",
    "for model in models:\n",
    "    model_name = model.__class__.__name__\n",
    "    accuracies = cross_val_score(model, X_resampled, y_resampled, scoring='accuracy', cv=CV)\n",
    "    for fold_idx, accuracy in enumerate(accuracies):\n",
    "        entries.append((model_name, fold_idx, accuracy))"
   ]
  },
  {
   "cell_type": "code",
   "execution_count": 18,
   "id": "147f5e35-f8b3-497a-bcdb-7fb14926b6f7",
   "metadata": {},
   "outputs": [
    {
     "data": {
      "text/html": [
       "<div>\n",
       "<style scoped>\n",
       "    .dataframe tbody tr th:only-of-type {\n",
       "        vertical-align: middle;\n",
       "    }\n",
       "\n",
       "    .dataframe tbody tr th {\n",
       "        vertical-align: top;\n",
       "    }\n",
       "\n",
       "    .dataframe thead th {\n",
       "        text-align: right;\n",
       "    }\n",
       "</style>\n",
       "<table border=\"1\" class=\"dataframe\">\n",
       "  <thead>\n",
       "    <tr style=\"text-align: right;\">\n",
       "      <th></th>\n",
       "      <th>Mean Accuracy</th>\n",
       "      <th>Standard deviation</th>\n",
       "    </tr>\n",
       "    <tr>\n",
       "      <th>model_name</th>\n",
       "      <th></th>\n",
       "      <th></th>\n",
       "    </tr>\n",
       "  </thead>\n",
       "  <tbody>\n",
       "    <tr>\n",
       "      <th>LinearSVC</th>\n",
       "      <td>0.97376</td>\n",
       "      <td>0.006755</td>\n",
       "    </tr>\n",
       "  </tbody>\n",
       "</table>\n",
       "</div>"
      ],
      "text/plain": [
       "            Mean Accuracy  Standard deviation\n",
       "model_name                                   \n",
       "LinearSVC         0.97376            0.006755"
      ]
     },
     "execution_count": 18,
     "metadata": {},
     "output_type": "execute_result"
    }
   ],
   "source": [
    "cv_df = pd.DataFrame(entries, columns=['model_name', 'fold_idx', 'accuracy'])\n",
    "mean_accuracy = cv_df.groupby('model_name').accuracy.mean()\n",
    "std_accuracy = cv_df.groupby('model_name').accuracy.std()\n",
    "acc = pd.concat([mean_accuracy, std_accuracy], axis=1, \n",
    "                 ignore_index=True)\n",
    "acc.columns = ['Mean Accuracy', 'Standard deviation']\n",
    "acc\n"
   ]
  },
  {
   "cell_type": "code",
   "execution_count": 19,
   "id": "bfd2d465-1236-4a3f-971a-d74f6051ff88",
   "metadata": {},
   "outputs": [
    {
     "name": "stderr",
     "output_type": "stream",
     "text": [
      "C:\\Users\\suvra\\AppData\\Local\\Programs\\Python\\Python312\\Lib\\site-packages\\sklearn\\svm\\_base.py:1235: ConvergenceWarning: Liblinear failed to converge, increase the number of iterations.\n",
      "  warnings.warn(\n"
     ]
    }
   ],
   "source": [
    "# model = LinearSVC(class_weight='balanced')\n",
    "# model = LinearSVC()\n",
    "model = LinearSVC(C=10)\n",
    "model.fit(X_resampled, y_resampled)\n",
    "y_pred = model.predict(X_test)\n",
    "\n"
   ]
  },
  {
   "cell_type": "code",
   "execution_count": 20,
   "id": "127c8568-04a3-4e89-83af-f45f83ddedb8",
   "metadata": {},
   "outputs": [
    {
     "name": "stdout",
     "output_type": "stream",
     "text": [
      "\t\t\t\tCLASSIFICATIION METRICS\n",
      "\n",
      "                                                    precision    recall  f1-score   support\n",
      "\n",
      "                Credit reporting, repair, or other       0.90      0.90      0.90      1319\n",
      "                                   Debt collection       0.74      0.76      0.75       380\n",
      "                                              Loan       0.78      0.83      0.80       311\n",
      "                       Checking or savings account       0.78      0.72      0.75       145\n",
      "                       Credit card or prepaid card       0.68      0.68      0.68       268\n",
      "Money transfer, virtual currency, or money service       0.72      0.64      0.68        77\n",
      "\n",
      "                                          accuracy                           0.83      2500\n",
      "                                         macro avg       0.77      0.75      0.76      2500\n",
      "                                      weighted avg       0.83      0.83      0.83      2500\n",
      "\n"
     ]
    }
   ],
   "source": [
    "print('\\t\\t\\t\\tCLASSIFICATIION METRICS\\n')\n",
    "print(metrics.classification_report(y_test, y_pred, \n",
    "                                    target_names= df1['Product'].unique()))\n",
    "\n",
    "\n"
   ]
  },
  {
   "cell_type": "code",
   "execution_count": 21,
   "id": "302b9b1c-63e2-4c74-908f-272cd66151fb",
   "metadata": {},
   "outputs": [
    {
     "name": "stdout",
     "output_type": "stream",
     "text": [
      "Training Accuracy: 1.00\n",
      "Test Accuracy: 0.83\n"
     ]
    }
   ],
   "source": [
    "# Calculate training accuracy\n",
    "training_accuracy = model.score(X_resampled, y_resampled)\n",
    "\n",
    "# Calculate test accuracy\n",
    "test_accuracy = model.score(X_test, y_test)\n",
    "\n",
    "print(f\"Training Accuracy: {training_accuracy:.2f}\")\n",
    "print(f\"Test Accuracy: {test_accuracy:.2f}\")\n"
   ]
  },
  {
   "cell_type": "code",
   "execution_count": 22,
   "id": "8a6a38e1-082e-4a35-9382-7410f87e39e5",
   "metadata": {},
   "outputs": [
    {
     "data": {
      "image/png": "[encoded data removed]",
      "text/plain": [
       "<Figure size 1000x700 with 2 Axes>"
      ]
     },
     "metadata": {},
     "output_type": "display_data"
    }
   ],
   "source": [
    "from sklearn.metrics import confusion_matrix\n",
    "import seaborn as sns\n",
    "import matplotlib.pyplot as plt\n",
    "\n",
    "# Make predictions\n",
    "y_pred = model.predict(X_test)\n",
    "\n",
    "# Generate confusion matrix\n",
    "cm = confusion_matrix(y_test, y_pred)\n",
    "\n",
    "# Plotting the confusion matrix\n",
    "plt.figure(figsize=(10, 7))\n",
    "sns.heatmap(cm, annot=True, fmt='d', cmap='Blues', xticklabels=df1['Product'].unique(), yticklabels=df1['Product'].unique())\n",
    "plt.ylabel('Actual')\n",
    "plt.xlabel('Predicted')\n",
    "plt.title('Confusion Matrix')\n",
    "plt.show()\n"
   ]
  },
  {
   "cell_type": "code",
   "execution_count": 23,
   "id": "eeeef7f3-022f-484c-8b79-04119b19804f",
   "metadata": {},
   "outputs": [],
   "source": [
    "# from sklearn.model_selection import GridSearchCV\n",
    "\n",
    "# param_grid = {\n",
    "#     'C': [0.01, 0.1, 1, 10],\n",
    "#     'max_iter': [100, 200, 300]\n",
    "# }\n",
    "# grid = GridSearchCV(LinearSVC(), param_grid, cv=5, scoring='accuracy')\n",
    "# grid.fit(X_resampled, y_resampled)\n",
    "\n",
    "# print(f\"Best parameters: {grid.best_params_}\")\n",
    "# print(f\"Best cross-validated score: {grid.best_score_:.2f}\")"
   ]
  },
  {
   "cell_type": "code",
   "execution_count": 24,
   "id": "fc953d6b-17ed-40f5-9a30-ed6dbda831f2",
   "metadata": {},
   "outputs": [],
   "source": [
    "# category_counts = df1['Product'].value_counts()\n",
    "\n",
    "# Product\n",
    "# Credit reporting, repair, or other                    5238\n",
    "# Debt collection                                       1570\n",
    "# Loan                                                  1318\n",
    "# Credit card or prepaid card                           1034\n",
    "# Checking or savings account                            564\n",
    "# Money transfer, virtual currency, or money service     276\n",
    "# df1['category_id'] = df1['Product'].factorize()[0]\n",
    "# category_id_df = df1[['Product', 'category_id']].drop_duplicates()\n",
    "\n",
    "# Product\tConsumer_complaint\tcategory_id\n",
    "# 4823\tCredit reporting, repair, or other\tContacted XXXX numerous times since I was mad...\t0\n",
    "# 149328\tCredit reporting, repair, or other\tOn XX/XX/2020 I sent a letter regarding inaccu...\t0\n",
    "# 203695\tCredit reporting, repair, or other\tMy identity has been compromised. I found out ...\t0\n",
    "# 337449\tDebt collection\tI have asked them to remove this account off o...\t1\n",
    "# 42616\tCredit reporting, repair, or other\tIn 2015 my father suffered a debilitating illn...\t0\n",
    "\n",
    "# stop_words_adjusted = text.ENGLISH_STOP_WORDS.union(['xx','xxxx','xxxxxxxx','00'])\n",
    "# stop_words_adjusted = list(stop_words_adjusted)# Initialize lemmatizer\n",
    "# lemmatizer = WordNetLemmatizer()\n",
    "# stop_words = set(stopwords.words('english')).union(['xx', 'xxxx', 'xxxxxxxx', '00'])\n",
    "# def preprocess_text(text):\n",
    "#     words = text.split()\n",
    "#     cleaned_words = [lemmatizer.lemmatize(word.lower()) for word in words if word.lower() not in stop_words]\n",
    "#     return ' '.join(cleaned_words)\n",
    "\n",
    "# df1['Consumer_complaint'] = df1['Consumer_complaint'].apply(preprocess_text)\n",
    "# tfidf = TfidfVectorizer(sublinear_tf=True, min_df=5,\n",
    "#                         ngram_range=(1, 2), \n",
    "#                         stop_words='english')\n",
    "\n",
    "# features = tfidf.fit_transform(df1[\"Consumer_complaint\"]).toarray()\n",
    "# X = df1['Consumer_complaint'] # Collection of documents\n",
    "# y = df1['Product'] # Target or the labels we want to predict (i.e., the 13 different complaints of products)\n",
    "\n",
    "# X_train, X_test, y_train, y_test = train_test_split(features, y, \n",
    "#                                                      test_size=0.25,\n",
    "#                                                      random_state=0)\n",
    "#  labels = df1.category_id\n",
    "# smote = SMOTE(random_state=42)\n",
    "\n",
    "# X_resampled, y_resampled = smote.fit_resample(X_train, y_train)\n",
    "# models = [\n",
    "#     LinearSVC(),\n",
    "   \n",
    "# ]\n",
    "# CV = 5\n",
    "# cv_df = pd.DataFrame(index=range(CV * len(models)))\n",
    "# entries = []\n",
    "# for model in models:\n",
    "#     model_name = model.__class__.__name__\n",
    "#     accuracies = cross_val_score(model, X_resampled, y_resampled, scoring='accuracy', cv=CV)\n",
    "#     for fold_idx, accuracy in enumerate(accuracies):\n",
    "#         entries.append((model_name, fold_idx, accuracy))\n",
    "# cv_df = pd.DataFrame(entries, columns=['model_name', 'fold_idx', 'accuracy'])\n",
    "# mean_accuracy = cv_df.groupby('model_name').accuracy.mean()\n",
    "# std_accuracy = cv_df.groupby('model_name').accuracy.std()\n",
    "# acc = pd.concat([mean_accuracy, std_accuracy], axis=1, \n",
    "#                  ignore_index=True)\n",
    "# acc.columns = ['Mean Accuracy', 'Standard deviation']\n",
    "# acc\n",
    "# model = LinearSVC()\n",
    "# model.fit(X_resampled, y_resampled)\n",
    "# y_pred = model.predict(X_test)\n",
    "\n",
    "# print('\\t\\t\\t\\tCLASSIFICATIION METRICS\\n')\n",
    "# print(metrics.classification_report(y_test, y_pred, \n",
    "#                                     target_names= df1['Product'].unique()))"
   ]
  }
 ],
 "metadata": {
  "kernelspec": {
   "display_name": "Python 3 (ipykernel)",
   "language": "python",
   "name": "python3"
  },
  "language_info": {
   "codemirror_mode": {
    "name": "ipython",
    "version": 3
   },
   "file_extension": ".py",
   "mimetype": "text/x-python",
   "name": "python",
   "nbconvert_exporter": "python",
   "pygments_lexer": "ipython3",
   "version": "3.12.2"
  }
 },
 "nbformat": 4,
 "nbformat_minor": 5
}
